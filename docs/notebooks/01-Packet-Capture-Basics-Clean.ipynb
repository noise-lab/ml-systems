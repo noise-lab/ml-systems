{
 "cells": [
  {
   "cell_type": "markdown",
   "id": "06a35757",
   "metadata": {},
   "source": [
    "# Packet Capture and Analysis"
   ]
  },
  {
   "cell_type": "markdown",
   "id": "f96be494",
   "metadata": {},
   "source": [
    "## Learning Objective\n",
    "\n",
    "In this short hands-on activity, we will make sure everyone is up to speed with Jupyter notebooks, and experiment with loading a network packet capture into a Pandas data frame.\n",
    "\n",
    "You will achieve the following:\n",
    "* Set up a Jupyter notebook\n",
    "* Load packet captures into a Pandas data frame\n",
    "* Manipulate data to extract basic statistics from a packet trace\n",
    "\n",
    "This notebook assumes that you have basic experience with Python and Jupyter notebooks. If you need additional background for that, please check the additional background resources provided."
   ]
  },
  {
   "cell_type": "markdown",
   "id": "816afe04",
   "metadata": {},
   "source": [
    "## Step 1: Packet Capture"
   ]
  },
  {
   "cell_type": "markdown",
   "id": "4093e0cc",
   "metadata": {},
   "source": [
    "One of the basic sources of data when measuring networked systems is a packet capture (sometimes also called a \"packet trace\"). The first step of the hands-on will be to perform a small packet capture and perform some basic analysis on that trace.\n",
    "\n",
    "1. Install [wireshark](https://wireshark.org/), a tool that performs packet capture.\n",
    "\n",
    "Wireshark is a powerful tool to capture network traffic according to specific filters. Other assignments will explore the use of different filters.\n",
    "\n",
    "For now, we will perform a capture with a simple filter.\n",
    "\n",
    "2. The Computer Science Department web server, `www.cs.uchicago.edu`, is at `128.135.24.72` (example).\n",
    "\n",
    "**Note:** This IP address may change from year to year. To find the current IP address, you can use the following command in your terminal:\n",
    "```\n",
    "nslookup www.cs.uchicago.edu\n",
    "```\n",
    "or\n",
    "```\n",
    "dig www.cs.uchicago.edu +short\n",
    "```\n",
    "\n",
    "Set up a capture filter for this address by typing `host <IP_ADDRESS>` into the capture filter (e.g., `host 128.135.24.72`).\n",
    "\n",
    "3. Start your capture by selecting the network interface that is sending and receiving your network traffic. \n",
    "\n",
    "If you are on WiFi, this interface may be called something like `en0`. From the home Wireshark page, it is often clear what the interface is because it shows some traffic activity. \n",
    "\n",
    "4. Open a web browser and load `www.cs.uchicago.edu`.\n",
    "\n",
    "5. Stop and save your trace by clicking the stop icon and saving the file. Save the file both as a `csv` and as a `pcap` (not `pcapng`). To save as a CSV, you should select \"export dissected packets\" as CSV, under the file menu.\n",
    "\n"
   ]
  },
  {
   "cell_type": "markdown",
   "id": "24d986f4",
   "metadata": {},
   "source": [
    "## Step 2: Basic Analysis of the Trace\n",
    "\n",
    "Before pulling this data into Pandas, let's have a quick look at what is in the trace.\n",
    "\n",
    "1. How many packets did you capture?\n",
    "2. Approximately how long did the capture take?\n",
    "3. What is the approximate round trip latency (in milliseconds) between you and the web server?\n",
    "4. (Challenging) Were there any lost packets?"
   ]
  },
  {
   "cell_type": "markdown",
   "id": "b725acdd",
   "metadata": {},
   "source": [
    "## Step 3: Loading and Inspecting the Data\n",
    "\n",
    "We have provided a library that uses Python's scapy library to load a pcap directly into Pandas. Yet, for convenience in the hands on, we will operate strictly with the CSV.\n",
    "\n",
    "First, let's load the pandas library, as well as the dataset."
   ]
  },
  {
   "cell_type": "code",
   "execution_count": 9,
   "id": "63eeda31",
   "metadata": {
    "ExecuteTime": {
     "end_time": "2025-03-06T03:23:10.794069Z",
     "start_time": "2025-03-06T03:23:10.791652Z"
    }
   },
   "outputs": [],
   "source": [
    "import pandas as pd"
   ]
  },
  {
   "cell_type": "markdown",
   "id": "4e2ef7a4",
   "metadata": {},
   "source": [
    "Enter some code to load your packet capture below into a pandas data frame called `pcap`."
   ]
  },
  {
   "cell_type": "markdown",
   "id": "85db2876",
   "metadata": {},
   "source": [
    "Let's have a quick look at the data you collected."
   ]
  },
  {
   "cell_type": "code",
   "execution_count": 11,
   "id": "fa7df955",
   "metadata": {
    "ExecuteTime": {
     "end_time": "2025-03-06T03:23:10.828063Z",
     "start_time": "2025-03-06T03:23:10.820704Z"
    }
   },
   "outputs": [
    {
     "data": {
      "text/html": [
       "<div>\n",
       "<style scoped>\n",
       "    .dataframe tbody tr th:only-of-type {\n",
       "        vertical-align: middle;\n",
       "    }\n",
       "\n",
       "    .dataframe tbody tr th {\n",
       "        vertical-align: top;\n",
       "    }\n",
       "\n",
       "    .dataframe thead th {\n",
       "        text-align: right;\n",
       "    }\n",
       "</style>\n",
       "<table border=\"1\" class=\"dataframe\">\n",
       "  <thead>\n",
       "    <tr style=\"text-align: right;\">\n",
       "      <th></th>\n",
       "      <th>No.</th>\n",
       "      <th>Time</th>\n",
       "      <th>Source</th>\n",
       "      <th>Destination</th>\n",
       "      <th>Protocol</th>\n",
       "      <th>Length</th>\n",
       "      <th>Info</th>\n",
       "    </tr>\n",
       "  </thead>\n",
       "  <tbody>\n",
       "    <tr>\n",
       "      <th>0</th>\n",
       "      <td>1</td>\n",
       "      <td>2022-09-28 13:07:49.340190</td>\n",
       "      <td>10.152.5.30</td>\n",
       "      <td>csweb1.cs.uchicago.edu</td>\n",
       "      <td>TCP</td>\n",
       "      <td>78</td>\n",
       "      <td>56064 &gt; 443 [SYN] Seq=0 Win=65535 Len=0 MSS=14...</td>\n",
       "    </tr>\n",
       "    <tr>\n",
       "      <th>1</th>\n",
       "      <td>2</td>\n",
       "      <td>2022-09-28 13:07:49.344371</td>\n",
       "      <td>csweb1.cs.uchicago.edu</td>\n",
       "      <td>10.152.5.30</td>\n",
       "      <td>TCP</td>\n",
       "      <td>66</td>\n",
       "      <td>443 &gt; 56064 [SYN, ACK] Seq=0 Ack=1 Win=64240 L...</td>\n",
       "    </tr>\n",
       "    <tr>\n",
       "      <th>2</th>\n",
       "      <td>3</td>\n",
       "      <td>2022-09-28 13:07:49.344467</td>\n",
       "      <td>10.152.5.30</td>\n",
       "      <td>csweb1.cs.uchicago.edu</td>\n",
       "      <td>TCP</td>\n",
       "      <td>54</td>\n",
       "      <td>56064 &gt; 443 [ACK] Seq=1 Ack=1 Win=262144 Len=0</td>\n",
       "    </tr>\n",
       "    <tr>\n",
       "      <th>3</th>\n",
       "      <td>4</td>\n",
       "      <td>2022-09-28 13:07:49.344609</td>\n",
       "      <td>10.152.5.30</td>\n",
       "      <td>csweb1.cs.uchicago.edu</td>\n",
       "      <td>TLSv1.2</td>\n",
       "      <td>571</td>\n",
       "      <td>Client Hello</td>\n",
       "    </tr>\n",
       "    <tr>\n",
       "      <th>4</th>\n",
       "      <td>5</td>\n",
       "      <td>2022-09-28 13:07:49.348257</td>\n",
       "      <td>csweb1.cs.uchicago.edu</td>\n",
       "      <td>10.152.5.30</td>\n",
       "      <td>TCP</td>\n",
       "      <td>56</td>\n",
       "      <td>443 &gt; 56064 [ACK] Seq=1 Ack=518 Win=64128 Len=0</td>\n",
       "    </tr>\n",
       "    <tr>\n",
       "      <th>5</th>\n",
       "      <td>6</td>\n",
       "      <td>2022-09-28 13:07:49.348261</td>\n",
       "      <td>csweb1.cs.uchicago.edu</td>\n",
       "      <td>10.152.5.30</td>\n",
       "      <td>TLSv1.2</td>\n",
       "      <td>1440</td>\n",
       "      <td>Server Hello</td>\n",
       "    </tr>\n",
       "    <tr>\n",
       "      <th>6</th>\n",
       "      <td>7</td>\n",
       "      <td>2022-09-28 13:07:49.348355</td>\n",
       "      <td>10.152.5.30</td>\n",
       "      <td>csweb1.cs.uchicago.edu</td>\n",
       "      <td>TCP</td>\n",
       "      <td>54</td>\n",
       "      <td>56064 &gt; 443 [ACK] Seq=518 Ack=1387 Win=260736 ...</td>\n",
       "    </tr>\n",
       "    <tr>\n",
       "      <th>7</th>\n",
       "      <td>8</td>\n",
       "      <td>2022-09-28 13:07:49.348398</td>\n",
       "      <td>csweb1.cs.uchicago.edu</td>\n",
       "      <td>10.152.5.30</td>\n",
       "      <td>TCP</td>\n",
       "      <td>1440</td>\n",
       "      <td>[TCP segment of a reassembled PDU]</td>\n",
       "    </tr>\n",
       "    <tr>\n",
       "      <th>8</th>\n",
       "      <td>9</td>\n",
       "      <td>2022-09-28 13:07:49.348433</td>\n",
       "      <td>10.152.5.30</td>\n",
       "      <td>csweb1.cs.uchicago.edu</td>\n",
       "      <td>TCP</td>\n",
       "      <td>54</td>\n",
       "      <td>56064 &gt; 443 [ACK] Seq=518 Ack=2773 Win=260736 ...</td>\n",
       "    </tr>\n",
       "    <tr>\n",
       "      <th>9</th>\n",
       "      <td>10</td>\n",
       "      <td>2022-09-28 13:07:49.349580</td>\n",
       "      <td>csweb1.cs.uchicago.edu</td>\n",
       "      <td>10.152.5.30</td>\n",
       "      <td>TLSv1.2</td>\n",
       "      <td>1372</td>\n",
       "      <td>CertificateServer Key Exchange, Server Hello Done</td>\n",
       "    </tr>\n",
       "  </tbody>\n",
       "</table>\n",
       "</div>"
      ],
      "text/plain": [
       "   No.                        Time                  Source  \\\n",
       "0    1  2022-09-28 13:07:49.340190             10.152.5.30   \n",
       "1    2  2022-09-28 13:07:49.344371  csweb1.cs.uchicago.edu   \n",
       "2    3  2022-09-28 13:07:49.344467             10.152.5.30   \n",
       "3    4  2022-09-28 13:07:49.344609             10.152.5.30   \n",
       "4    5  2022-09-28 13:07:49.348257  csweb1.cs.uchicago.edu   \n",
       "5    6  2022-09-28 13:07:49.348261  csweb1.cs.uchicago.edu   \n",
       "6    7  2022-09-28 13:07:49.348355             10.152.5.30   \n",
       "7    8  2022-09-28 13:07:49.348398  csweb1.cs.uchicago.edu   \n",
       "8    9  2022-09-28 13:07:49.348433             10.152.5.30   \n",
       "9   10  2022-09-28 13:07:49.349580  csweb1.cs.uchicago.edu   \n",
       "\n",
       "              Destination Protocol  Length  \\\n",
       "0  csweb1.cs.uchicago.edu      TCP      78   \n",
       "1             10.152.5.30      TCP      66   \n",
       "2  csweb1.cs.uchicago.edu      TCP      54   \n",
       "3  csweb1.cs.uchicago.edu  TLSv1.2     571   \n",
       "4             10.152.5.30      TCP      56   \n",
       "5             10.152.5.30  TLSv1.2    1440   \n",
       "6  csweb1.cs.uchicago.edu      TCP      54   \n",
       "7             10.152.5.30      TCP    1440   \n",
       "8  csweb1.cs.uchicago.edu      TCP      54   \n",
       "9             10.152.5.30  TLSv1.2    1372   \n",
       "\n",
       "                                                Info  \n",
       "0  56064 > 443 [SYN] Seq=0 Win=65535 Len=0 MSS=14...  \n",
       "1  443 > 56064 [SYN, ACK] Seq=0 Ack=1 Win=64240 L...  \n",
       "2     56064 > 443 [ACK] Seq=1 Ack=1 Win=262144 Len=0  \n",
       "3                                       Client Hello  \n",
       "4    443 > 56064 [ACK] Seq=1 Ack=518 Win=64128 Len=0  \n",
       "5                                       Server Hello  \n",
       "6  56064 > 443 [ACK] Seq=518 Ack=1387 Win=260736 ...  \n",
       "7                 [TCP segment of a reassembled PDU]  \n",
       "8  56064 > 443 [ACK] Seq=518 Ack=2773 Win=260736 ...  \n",
       "9  CertificateServer Key Exchange, Server Hello Done  "
      ]
     },
     "execution_count": 11,
     "metadata": {},
     "output_type": "execute_result"
    }
   ],
   "source": [
    "pcap.head(10)"
   ]
  },
  {
   "cell_type": "markdown",
   "id": "27c55216",
   "metadata": {},
   "source": [
    "## Step 3: Basic Analysis\n",
    "\n",
    "1. Compute the total time in your trace."
   ]
  },
  {
   "cell_type": "markdown",
   "id": "97f1bc7c",
   "metadata": {},
   "source": [
    "**Optional:** You may have let the capture run longer than the time taken to load the web page. Take a closer look at the packet capture or the pandas dataframe to see what may be at the end of the trace if anything. See if you need to alter your computation, and make any fixes to your computation."
   ]
  },
  {
   "cell_type": "markdown",
   "id": "5ed0d955",
   "metadata": {},
   "source": [
    "2. Compute basic statistics of packet sizes:\n",
    "  * Mean \n",
    "  * Median\n",
    "  * 90th percentile\n",
    "\n",
    "(In the assignment, we will explore some more sophisticated analysis.)"
   ]
  },
  {
   "cell_type": "markdown",
   "id": "11a7a746",
   "metadata": {},
   "source": [
    "## Step 4: Visualization"
   ]
  },
  {
   "cell_type": "markdown",
   "id": "0990dcb3",
   "metadata": {},
   "source": [
    "We can also visualize the data. Plot the following distributions as cumulative distribution functions:\n",
    "  * Packet size\n",
    "  * Packet interarrival time (if you have time)"
   ]
  }
 ],
 "metadata": {
  "celltoolbar": "Tags",
  "kernelspec": {
   "display_name": "Python 3",
   "language": "python",
   "name": "python3"
  },
  "language_info": {
   "codemirror_mode": {
    "name": "ipython",
    "version": 3
   },
   "file_extension": ".py",
   "mimetype": "text/x-python",
   "name": "python",
   "nbconvert_exporter": "python",
   "pygments_lexer": "ipython3",
   "version": "3.12.5"
  }
 },
 "nbformat": 4,
 "nbformat_minor": 5
}
